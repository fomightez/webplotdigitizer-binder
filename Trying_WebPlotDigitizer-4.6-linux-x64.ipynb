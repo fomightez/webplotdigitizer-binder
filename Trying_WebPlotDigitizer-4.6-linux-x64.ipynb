{
 "cells": [
  {
   "cell_type": "markdown",
   "id": "62264da4-f71f-4df1-88ec-29768e2bde44",
   "metadata": {},
   "source": [
    "## Trying WebPlotDigitizer-4.6-linux-x64.zip\n",
    "\n",
    "I was curious what the 'Download' in the upper right side of [the main WebPlotDigitizer](https://automeris.io/WebPlotDigitizer/) yielded and if it could ultimately be used to automate conversion of a lot of images of plots to data."
   ]
  },
  {
   "cell_type": "code",
   "execution_count": 1,
   "id": "5a6d1832-b43a-4abc-9f69-d8881e48be40",
   "metadata": {},
   "outputs": [
    {
     "name": "stdout",
     "output_type": "stream",
     "text": [
      "  % Total    % Received % Xferd  Average Speed   Time    Time     Time  Current\n",
      "                                 Dload  Upload   Total   Spent    Left  Speed\n",
      "100  104M  100  104M    0     0  7978k      0  0:00:13  0:00:13 --:--:-- 5598k\n"
     ]
    }
   ],
   "source": [
    "!curl -OL https://automeris.io/downloads/WebPlotDigitizer-4.6-linux-x64.zip"
   ]
  },
  {
   "cell_type": "code",
   "execution_count": null,
   "id": "34980edd-2eb0-4502-881c-b87cc44e3bef",
   "metadata": {},
   "outputs": [],
   "source": [
    "!unzip WebPlotDigitizer-4.6-linux-x64.zip"
   ]
  },
  {
   "cell_type": "markdown",
   "id": "c855f1d6-a54e-40a8-9554-62826e5594f8",
   "metadata": {},
   "source": [
    "That cell above produces a lot of output and so for saving the file I cleared it out."
   ]
  },
  {
   "cell_type": "code",
   "execution_count": 3,
   "id": "14d6f769-3ccd-41db-a03e-1473a4d0f388",
   "metadata": {},
   "outputs": [
    {
     "name": "stdout",
     "output_type": "stream",
     "text": [
      "/home/jovyan/WebPlotDigitizer-4.6-linux-x64\n"
     ]
    }
   ],
   "source": [
    "%cd WebPlotDigitizer-4.6-linux-x64/"
   ]
  },
  {
   "cell_type": "code",
   "execution_count": 4,
   "id": "fae62a2e-a4aa-4ee6-bbf2-1cfd0290bac4",
   "metadata": {},
   "outputs": [
    {
     "name": "stdout",
     "output_type": "stream",
     "text": [
      "chrome_100_percent.pak    \u001b[0m\u001b[01;32mlibGLESv2.so\u001b[0m*           resources.pak\n",
      "chrome_200_percent.pak    \u001b[01;32mlibvk_swiftshader.so\u001b[0m*   snapshot_blob.bin\n",
      "\u001b[01;32mchrome_crashpad_handler\u001b[0m*  \u001b[01;32mlibvulkan.so.1\u001b[0m*         v8_context_snapshot.bin\n",
      "\u001b[01;32mchrome-sandbox\u001b[0m*           LICENSE                 version\n",
      "icudtl.dat                LICENSES.chromium.html  vk_swiftshader_icd.json\n",
      "\u001b[01;32mlibEGL.so\u001b[0m*                \u001b[01;34mlocales\u001b[0m/                \u001b[01;32mWebPlotDigitizer-4.6\u001b[0m*\n",
      "\u001b[01;32mlibffmpeg.so\u001b[0m*             \u001b[01;34mresources\u001b[0m/\n"
     ]
    }
   ],
   "source": [
    "ls"
   ]
  },
  {
   "cell_type": "code",
   "execution_count": 5,
   "id": "8afefb3f-8523-41c2-b087-c0593665700e",
   "metadata": {},
   "outputs": [
    {
     "name": "stdout",
     "output_type": "stream",
     "text": [
      "[86:0215/171936.608933:ERROR:ozone_platform_x11.cc(247)] Missing X server or $DISPLAY\n",
      "[86:0215/171936.609040:ERROR:env.cc(226)] The platform failed to initialize.  Exiting.\n",
      "The futex facility returned an unexpected error code."
     ]
    }
   ],
   "source": [
    "!./WebPlotDigitizer-4.6*"
   ]
  },
  {
   "cell_type": "code",
   "execution_count": null,
   "id": "c36f00de-b8f5-4f01-8df0-47a61994abd2",
   "metadata": {},
   "outputs": [],
   "source": []
  },
  {
   "cell_type": "code",
   "execution_count": null,
   "id": "619c3450-61b4-4125-af25-7ed8e96f9e3e",
   "metadata": {},
   "outputs": [],
   "source": []
  }
 ],
 "metadata": {
  "kernelspec": {
   "display_name": "Python 3 (ipykernel)",
   "language": "python",
   "name": "python3"
  },
  "language_info": {
   "codemirror_mode": {
    "name": "ipython",
    "version": 3
   },
   "file_extension": ".py",
   "mimetype": "text/x-python",
   "name": "python",
   "nbconvert_exporter": "python",
   "pygments_lexer": "ipython3",
   "version": "3.7.12"
  }
 },
 "nbformat": 4,
 "nbformat_minor": 5
}
